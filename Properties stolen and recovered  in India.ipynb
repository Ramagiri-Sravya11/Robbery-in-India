{
 "cells": [
  {
   "cell_type": "code",
   "execution_count": 29,
   "metadata": {},
   "outputs": [],
   "source": [
    "import pandas as pd\n",
    "import numpy as np\n",
    "import matplotlib.pyplot as plt"
   ]
  },
  {
   "cell_type": "code",
   "execution_count": 30,
   "metadata": {
    "scrolled": true
   },
   "outputs": [],
   "source": [
    "crimes=pd.read_csv(r\"C:\\Users\\HP\\Desktop\\dataset.zip\")"
   ]
  },
  {
   "cell_type": "code",
   "execution_count": 31,
   "metadata": {},
   "outputs": [
    {
     "data": {
      "text/plain": [
       "(2449, 8)"
      ]
     },
     "execution_count": 31,
     "metadata": {},
     "output_type": "execute_result"
    }
   ],
   "source": [
    "crimes.shape"
   ]
  },
  {
   "cell_type": "code",
   "execution_count": 32,
   "metadata": {},
   "outputs": [
    {
     "data": {
      "text/html": [
       "<div>\n",
       "<style scoped>\n",
       "    .dataframe tbody tr th:only-of-type {\n",
       "        vertical-align: middle;\n",
       "    }\n",
       "\n",
       "    .dataframe tbody tr th {\n",
       "        vertical-align: top;\n",
       "    }\n",
       "\n",
       "    .dataframe thead th {\n",
       "        text-align: right;\n",
       "    }\n",
       "</style>\n",
       "<table border=\"1\" class=\"dataframe\">\n",
       "  <thead>\n",
       "    <tr style=\"text-align: right;\">\n",
       "      <th></th>\n",
       "      <th>Area_Name</th>\n",
       "      <th>Year</th>\n",
       "      <th>Group_Name</th>\n",
       "      <th>Sub_Group_Name</th>\n",
       "      <th>Cases_Property_Recovered</th>\n",
       "      <th>Cases_Property_Stolen</th>\n",
       "      <th>Value_of_Property_Recovered</th>\n",
       "      <th>Value_of_Property_Stolen</th>\n",
       "    </tr>\n",
       "  </thead>\n",
       "  <tbody>\n",
       "    <tr>\n",
       "      <th>0</th>\n",
       "      <td>Andaman &amp; Nicobar Islands</td>\n",
       "      <td>2001</td>\n",
       "      <td>Burglary - Property</td>\n",
       "      <td>3. Burglary</td>\n",
       "      <td>27</td>\n",
       "      <td>64</td>\n",
       "      <td>755858</td>\n",
       "      <td>1321961</td>\n",
       "    </tr>\n",
       "    <tr>\n",
       "      <th>1</th>\n",
       "      <td>Andhra Pradesh</td>\n",
       "      <td>2001</td>\n",
       "      <td>Burglary - Property</td>\n",
       "      <td>3. Burglary</td>\n",
       "      <td>3321</td>\n",
       "      <td>7134</td>\n",
       "      <td>51483437</td>\n",
       "      <td>147019348</td>\n",
       "    </tr>\n",
       "    <tr>\n",
       "      <th>2</th>\n",
       "      <td>Arunachal Pradesh</td>\n",
       "      <td>2001</td>\n",
       "      <td>Burglary - Property</td>\n",
       "      <td>3. Burglary</td>\n",
       "      <td>66</td>\n",
       "      <td>248</td>\n",
       "      <td>825115</td>\n",
       "      <td>4931904</td>\n",
       "    </tr>\n",
       "    <tr>\n",
       "      <th>3</th>\n",
       "      <td>Assam</td>\n",
       "      <td>2001</td>\n",
       "      <td>Burglary - Property</td>\n",
       "      <td>3. Burglary</td>\n",
       "      <td>539</td>\n",
       "      <td>2423</td>\n",
       "      <td>3722850</td>\n",
       "      <td>21466955</td>\n",
       "    </tr>\n",
       "    <tr>\n",
       "      <th>4</th>\n",
       "      <td>Bihar</td>\n",
       "      <td>2001</td>\n",
       "      <td>Burglary - Property</td>\n",
       "      <td>3. Burglary</td>\n",
       "      <td>367</td>\n",
       "      <td>3231</td>\n",
       "      <td>2327135</td>\n",
       "      <td>17023937</td>\n",
       "    </tr>\n",
       "    <tr>\n",
       "      <th>...</th>\n",
       "      <td>...</td>\n",
       "      <td>...</td>\n",
       "      <td>...</td>\n",
       "      <td>...</td>\n",
       "      <td>...</td>\n",
       "      <td>...</td>\n",
       "      <td>...</td>\n",
       "      <td>...</td>\n",
       "    </tr>\n",
       "    <tr>\n",
       "      <th>2444</th>\n",
       "      <td>Tamil Nadu</td>\n",
       "      <td>2010</td>\n",
       "      <td>Total Property</td>\n",
       "      <td>7. Total Property Stolen &amp; Recovered</td>\n",
       "      <td>16125</td>\n",
       "      <td>21509</td>\n",
       "      <td>660311804</td>\n",
       "      <td>1317919190</td>\n",
       "    </tr>\n",
       "    <tr>\n",
       "      <th>2445</th>\n",
       "      <td>Tripura</td>\n",
       "      <td>2010</td>\n",
       "      <td>Total Property</td>\n",
       "      <td>7. Total Property Stolen &amp; Recovered</td>\n",
       "      <td>192</td>\n",
       "      <td>879</td>\n",
       "      <td>5666102</td>\n",
       "      <td>33032746</td>\n",
       "    </tr>\n",
       "    <tr>\n",
       "      <th>2446</th>\n",
       "      <td>Uttar Pradesh</td>\n",
       "      <td>2010</td>\n",
       "      <td>Total Property</td>\n",
       "      <td>7. Total Property Stolen &amp; Recovered</td>\n",
       "      <td>9130</td>\n",
       "      <td>35068</td>\n",
       "      <td>577591772</td>\n",
       "      <td>1442670414</td>\n",
       "    </tr>\n",
       "    <tr>\n",
       "      <th>2447</th>\n",
       "      <td>Uttarakhand</td>\n",
       "      <td>2010</td>\n",
       "      <td>Total Property</td>\n",
       "      <td>7. Total Property Stolen &amp; Recovered</td>\n",
       "      <td>964</td>\n",
       "      <td>2234</td>\n",
       "      <td>47135685</td>\n",
       "      <td>123398840</td>\n",
       "    </tr>\n",
       "    <tr>\n",
       "      <th>2448</th>\n",
       "      <td>West Bengal</td>\n",
       "      <td>2010</td>\n",
       "      <td>Total Property</td>\n",
       "      <td>7. Total Property Stolen &amp; Recovered</td>\n",
       "      <td>4548</td>\n",
       "      <td>23759</td>\n",
       "      <td>1168242161</td>\n",
       "      <td>5015168687</td>\n",
       "    </tr>\n",
       "  </tbody>\n",
       "</table>\n",
       "<p>2449 rows × 8 columns</p>\n",
       "</div>"
      ],
      "text/plain": [
       "                      Area_Name  Year           Group_Name  \\\n",
       "0     Andaman & Nicobar Islands  2001  Burglary - Property   \n",
       "1                Andhra Pradesh  2001  Burglary - Property   \n",
       "2             Arunachal Pradesh  2001  Burglary - Property   \n",
       "3                         Assam  2001  Burglary - Property   \n",
       "4                         Bihar  2001  Burglary - Property   \n",
       "...                         ...   ...                  ...   \n",
       "2444                 Tamil Nadu  2010       Total Property   \n",
       "2445                    Tripura  2010       Total Property   \n",
       "2446              Uttar Pradesh  2010       Total Property   \n",
       "2447                Uttarakhand  2010       Total Property   \n",
       "2448                West Bengal  2010       Total Property   \n",
       "\n",
       "                            Sub_Group_Name  Cases_Property_Recovered  \\\n",
       "0                              3. Burglary                        27   \n",
       "1                              3. Burglary                      3321   \n",
       "2                              3. Burglary                        66   \n",
       "3                              3. Burglary                       539   \n",
       "4                              3. Burglary                       367   \n",
       "...                                    ...                       ...   \n",
       "2444  7. Total Property Stolen & Recovered                     16125   \n",
       "2445  7. Total Property Stolen & Recovered                       192   \n",
       "2446  7. Total Property Stolen & Recovered                      9130   \n",
       "2447  7. Total Property Stolen & Recovered                       964   \n",
       "2448  7. Total Property Stolen & Recovered                      4548   \n",
       "\n",
       "      Cases_Property_Stolen  Value_of_Property_Recovered  \\\n",
       "0                        64                       755858   \n",
       "1                      7134                     51483437   \n",
       "2                       248                       825115   \n",
       "3                      2423                      3722850   \n",
       "4                      3231                      2327135   \n",
       "...                     ...                          ...   \n",
       "2444                  21509                    660311804   \n",
       "2445                    879                      5666102   \n",
       "2446                  35068                    577591772   \n",
       "2447                   2234                     47135685   \n",
       "2448                  23759                   1168242161   \n",
       "\n",
       "      Value_of_Property_Stolen  \n",
       "0                      1321961  \n",
       "1                    147019348  \n",
       "2                      4931904  \n",
       "3                     21466955  \n",
       "4                     17023937  \n",
       "...                        ...  \n",
       "2444                1317919190  \n",
       "2445                  33032746  \n",
       "2446                1442670414  \n",
       "2447                 123398840  \n",
       "2448                5015168687  \n",
       "\n",
       "[2449 rows x 8 columns]"
      ]
     },
     "execution_count": 32,
     "metadata": {},
     "output_type": "execute_result"
    }
   ],
   "source": [
    "crimes"
   ]
  },
  {
   "cell_type": "code",
   "execution_count": 63,
   "metadata": {},
   "outputs": [],
   "source": [
    "a=np.array([0,0,0,0,0,0])"
   ]
  },
  {
   "cell_type": "code",
   "execution_count": 64,
   "metadata": {},
   "outputs": [
    {
     "name": "stderr",
     "output_type": "stream",
     "text": [
      "c:\\users\\hp\\appdata\\local\\programs\\python\\python37-32\\lib\\site-packages\\ipykernel_launcher.py:2: FutureWarning: get_value is deprecated and will be removed in a future release. Please use .at[] or .iat[] accessors instead\n",
      "  \n",
      "c:\\users\\hp\\appdata\\local\\programs\\python\\python37-32\\lib\\site-packages\\ipykernel_launcher.py:4: FutureWarning: get_value is deprecated and will be removed in a future release. Please use .at[] or .iat[] accessors instead\n",
      "  after removing the cwd from sys.path.\n",
      "c:\\users\\hp\\appdata\\local\\programs\\python\\python37-32\\lib\\site-packages\\ipykernel_launcher.py:6: FutureWarning: get_value is deprecated and will be removed in a future release. Please use .at[] or .iat[] accessors instead\n",
      "  \n",
      "c:\\users\\hp\\appdata\\local\\programs\\python\\python37-32\\lib\\site-packages\\ipykernel_launcher.py:8: FutureWarning: get_value is deprecated and will be removed in a future release. Please use .at[] or .iat[] accessors instead\n",
      "  \n",
      "c:\\users\\hp\\appdata\\local\\programs\\python\\python37-32\\lib\\site-packages\\ipykernel_launcher.py:10: FutureWarning: get_value is deprecated and will be removed in a future release. Please use .at[] or .iat[] accessors instead\n",
      "  # Remove the CWD from sys.path while we load stuff.\n",
      "c:\\users\\hp\\appdata\\local\\programs\\python\\python37-32\\lib\\site-packages\\ipykernel_launcher.py:12: FutureWarning: get_value is deprecated and will be removed in a future release. Please use .at[] or .iat[] accessors instead\n",
      "  if sys.path[0] == '':\n"
     ]
    },
    {
     "data": {
      "text/plain": [
       "[2137, 154, 68, 23, 26, 19]"
      ]
     },
     "execution_count": 64,
     "metadata": {},
     "output_type": "execute_result"
    }
   ],
   "source": [
    "for i in range(len(crimes)):\n",
    "    if(crimes['Cases_Property_Recovered'].get_value(i)>=0.00 and crimes['Cases_Property_Recovered'].get_value(i)<2796.00):\n",
    "        a[0]+=1\n",
    "    if(crimes['Cases_Property_Recovered'].get_value(i)>=2796.00 and crimes['Cases_Property_Recovered'].get_value(i)<5592.00):\n",
    "        a[1]+=1\n",
    "    if(crimes['Cases_Property_Recovered'].get_value(i)>=5592.00 and crimes['Cases_Property_Recovered'].get_value(i)<8388.00):\n",
    "        a[2]+=1\n",
    "    if(crimes['Cases_Property_Recovered'].get_value(i)>=8388.00 and crimes['Cases_Property_Recovered'].get_value(i)<11184.00):\n",
    "        a[3]+=1\n",
    "    if(crimes['Cases_Property_Recovered'].get_value(i)>=11184.00 and crimes['Cases_Property_Recovered'].get_value(i)<13980.00):\n",
    "        a[4]+=1\n",
    "    if(crimes['Cases_Property_Recovered'].get_value(i)>=13980.00 and crimes['Cases_Property_Recovered'].get_value(i)<16776.00):\n",
    "        a[5]+=1\n",
    "ls=[]\n",
    "for i in range(len(a)):\n",
    "    ls.append(a[i])\n",
    "ls    \n",
    "\n",
    "    "
   ]
  },
  {
   "cell_type": "code",
   "execution_count": 68,
   "metadata": {},
   "outputs": [
    {
     "data": {
      "text/plain": [
       "[2137, 154, 68, 23, 26, 19]"
      ]
     },
     "execution_count": 68,
     "metadata": {},
     "output_type": "execute_result"
    },
    {
     "data": {
      "image/png": "[encoded data removed]",
      "text/plain": [
       "<Figure size 432x288 with 1 Axes>"
      ]
     },
     "metadata": {
      "needs_background": "light"
     },
     "output_type": "display_data"
    },
    {
     "data": {
      "image/png": "[encoded data removed]",
      "text/plain": [
       "<Figure size 1440x720 with 1 Axes>"
      ]
     },
     "metadata": {
      "needs_background": "light"
     },
     "output_type": "display_data"
    }
   ],
   "source": [
    "content=['0.00-2796.00','2796.00-5592.00','5592.00-8388.00','8388.00-11184.00','11184.00-13980.00','13980.00-16776.00']\n",
    "plt.title(\"Cases Property Recovered\")\n",
    "plt.xlabel(\"cases property recovered\")\n",
    "plt.ylabel(\"frequency\")\n",
    "f,ax=plt.subplots(figsize=(20,10))\n",
    "plt.xticks(rotation=90)\n",
    "crimes=plt.bar(content,ls,align=\"center\")\n",
    "crimes[0].set_color('b')\n",
    "crimes[1].set_color('r')\n",
    "crimes[2].set_color('g')\n",
    "crimes[3].set_color('y')\n",
    "crimes[4].set_color('k')\n",
    "ls"
   ]
  },
  {
   "cell_type": "code",
   "execution_count": 26,
   "metadata": {},
   "outputs": [],
   "source": [
    "b=np.array([0,0,0,0,0])"
   ]
  },
  {
   "cell_type": "code",
   "execution_count": 27,
   "metadata": {},
   "outputs": [
    {
     "name": "stderr",
     "output_type": "stream",
     "text": [
      "c:\\users\\hp\\appdata\\local\\programs\\python\\python37-32\\lib\\site-packages\\ipykernel_launcher.py:2: FutureWarning: get_value is deprecated and will be removed in a future release. Please use .at[] or .iat[] accessors instead\n",
      "  \n",
      "c:\\users\\hp\\appdata\\local\\programs\\python\\python37-32\\lib\\site-packages\\ipykernel_launcher.py:4: FutureWarning: get_value is deprecated and will be removed in a future release. Please use .at[] or .iat[] accessors instead\n",
      "  after removing the cwd from sys.path.\n",
      "c:\\users\\hp\\appdata\\local\\programs\\python\\python37-32\\lib\\site-packages\\ipykernel_launcher.py:6: FutureWarning: get_value is deprecated and will be removed in a future release. Please use .at[] or .iat[] accessors instead\n",
      "  \n",
      "c:\\users\\hp\\appdata\\local\\programs\\python\\python37-32\\lib\\site-packages\\ipykernel_launcher.py:8: FutureWarning: get_value is deprecated and will be removed in a future release. Please use .at[] or .iat[] accessors instead\n",
      "  \n",
      "c:\\users\\hp\\appdata\\local\\programs\\python\\python37-32\\lib\\site-packages\\ipykernel_launcher.py:10: FutureWarning: get_value is deprecated and will be removed in a future release. Please use .at[] or .iat[] accessors instead\n",
      "  # Remove the CWD from sys.path while we load stuff.\n"
     ]
    },
    {
     "data": {
      "text/plain": [
       "[2139, 124, 107, 39, 23]"
      ]
     },
     "execution_count": 27,
     "metadata": {},
     "output_type": "execute_result"
    }
   ],
   "source": [
    "for i in range(len(crimes)):\n",
    "    if(crimes['Cases_Property_Stolen'].get_value(i)>=0.00 and crimes['Cases_Property_Stolen'].get_value(i)<8066.30):\n",
    "        b[0]+=1\n",
    "    if(crimes['Cases_Property_Stolen'].get_value(i)>=8066.30 and crimes['Cases_Property_Stolen'].get_value(i)<16132.60):\n",
    "        b[1]+=1\n",
    "    if(crimes['Cases_Property_Stolen'].get_value(i)>=16132.60 and crimes['Cases_Property_Stolen'].get_value(i)<24198.90):\n",
    "        b[2]+=1\n",
    "    if(crimes['Cases_Property_Stolen'].get_value(i)>=24198.90 and crimes['Cases_Property_Stolen'].get_value(i)<32265.20):\n",
    "        b[3]+=1\n",
    "    if(crimes['Cases_Property_Stolen'].get_value(i)>=32265.20 and crimes['Cases_Property_Stolen'].get_value(i)<40331.50):\n",
    "        b[4]+=1\n",
    "ls1=[]\n",
    "for i in range(len(b)):\n",
    "    ls1.append(b[i])\n",
    "ls1    "
   ]
  },
  {
   "cell_type": "code",
   "execution_count": 28,
   "metadata": {},
   "outputs": [
    {
     "data": {
      "text/plain": [
       "[2139, 124, 107, 39, 23]"
      ]
     },
     "execution_count": 28,
     "metadata": {},
     "output_type": "execute_result"
    },
    {
     "data": {
      "image/png": "[encoded data removed]",
      "text/plain": [
       "<Figure size 432x288 with 1 Axes>"
      ]
     },
     "metadata": {},
     "output_type": "display_data"
    }
   ],
   "source": [
    "content1=['0.00-8066.30','8066.30-16132.60','16132.60-24198.90','24198.90-32265.20','32265.20-40331.50']\n",
    "plt.title(\"Cases Property Stolen vs Frequency\")\n",
    "explode=(0.5,0.5,0.5,0.5,0.5)\n",
    "plt.pie(ls1,labels=content1,explode=explode)\n",
    "ls1"
   ]
  },
  {
   "cell_type": "code",
   "execution_count": 10,
   "metadata": {},
   "outputs": [],
   "source": [
    "c=np.array([0,0])"
   ]
  },
  {
   "cell_type": "code",
   "execution_count": 11,
   "metadata": {},
   "outputs": [
    {
     "name": "stderr",
     "output_type": "stream",
     "text": [
      "c:\\users\\hp\\appdata\\local\\programs\\python\\python37-32\\lib\\site-packages\\ipykernel_launcher.py:2: FutureWarning: get_value is deprecated and will be removed in a future release. Please use .at[] or .iat[] accessors instead\n",
      "  \n",
      "c:\\users\\hp\\appdata\\local\\programs\\python\\python37-32\\lib\\site-packages\\ipykernel_launcher.py:4: FutureWarning: get_value is deprecated and will be removed in a future release. Please use .at[] or .iat[] accessors instead\n",
      "  after removing the cwd from sys.path.\n"
     ]
    },
    {
     "data": {
      "text/plain": [
       "[2427, 19]"
      ]
     },
     "execution_count": 11,
     "metadata": {},
     "output_type": "execute_result"
    }
   ],
   "source": [
    "for i in range(len(crimes)):\n",
    "    if(crimes['Value_of_Property_Recovered'].get_value(i)>=0.00 and crimes['Value_of_Property_Recovered'].get_value(i)<747001136.30):\n",
    "        c[0]+=1\n",
    "    if(crimes['Value_of_Property_Recovered'].get_value(i)>=747001136.30 and crimes['Value_of_Property_Recovered'].get_value(i)<1494002272.60):\n",
    "        c[1]+=1\n",
    "ls2=[]\n",
    "for i in range(len(c)):\n",
    "    ls2.append(c[i])\n",
    "ls2           "
   ]
  },
  {
   "cell_type": "code",
   "execution_count": 13,
   "metadata": {},
   "outputs": [
    {
     "data": {
      "image/png": "[encoded data removed]",
      "text/plain": [
       "<Figure size 432x288 with 1 Axes>"
      ]
     },
     "metadata": {
      "needs_background": "light"
     },
     "output_type": "display_data"
    }
   ],
   "source": [
    "content2=['0.00-747001136.30','747001136.30-1494002272.60']\n",
    "plt.title(\"Value of Property Recovered\")\n",
    "plt.xlabel(\"value of property recovered\")\n",
    "plt.ylabel(\"count\")\n",
    "plt.plot(content2,ls2,color='green',linestyle='dashed',linewidth=4,marker='o',markerfacecolor='red',markersize=14)\n",
    "plt.show()"
   ]
  },
  {
   "cell_type": "code",
   "execution_count": 33,
   "metadata": {},
   "outputs": [],
   "source": [
    "s=np.array([0,0])"
   ]
  },
  {
   "cell_type": "code",
   "execution_count": 34,
   "metadata": {},
   "outputs": [
    {
     "name": "stderr",
     "output_type": "stream",
     "text": [
      "c:\\users\\hp\\appdata\\local\\programs\\python\\python37-32\\lib\\site-packages\\ipykernel_launcher.py:2: FutureWarning: get_value is deprecated and will be removed in a future release. Please use .at[] or .iat[] accessors instead\n",
      "  \n",
      "c:\\users\\hp\\appdata\\local\\programs\\python\\python37-32\\lib\\site-packages\\ipykernel_launcher.py:4: FutureWarning: get_value is deprecated and will be removed in a future release. Please use .at[] or .iat[] accessors instead\n",
      "  after removing the cwd from sys.path.\n"
     ]
    },
    {
     "data": {
      "text/plain": [
       "[2401, 28]"
      ]
     },
     "execution_count": 34,
     "metadata": {},
     "output_type": "execute_result"
    }
   ],
   "source": [
    "for i in range(len(crimes)):\n",
    "    if(crimes['Value_of_Property_Stolen'].get_value(i)>=0.00 and crimes['Value_of_Property_Stolen'].get_value(i)<2377625452.50):\n",
    "        s[0]+=1\n",
    "    if(crimes['Value_of_Property_Stolen'].get_value(i)>=2377625452.50 and crimes['Value_of_Property_Stolen'].get_value(i)<4755250905.00):\n",
    "        s[1]+=1\n",
    "ls3=[]\n",
    "for i in range(len(s)):\n",
    "    ls3.append(s[i])\n",
    "ls3    \n",
    "        "
   ]
  },
  {
   "cell_type": "code",
   "execution_count": 35,
   "metadata": {},
   "outputs": [
    {
     "data": {
      "image/png": "[encoded data removed]",
      "text/plain": [
       "<Figure size 432x288 with 1 Axes>"
      ]
     },
     "metadata": {
      "needs_background": "light"
     },
     "output_type": "display_data"
    }
   ],
   "source": [
    "content3=['0.00-2377625452.50','2377625452.50-4755250905.00']\n",
    "plt.title(\"Value of Property Stolen\")\n",
    "plt.xlabel(\"value of property stolen\")\n",
    "plt.ylabel(\"count\")\n",
    "plt.scatter(content3,ls3,label=\"stars\",color=\"blue\",marker=\"*\",s=60)\n",
    "plt.legend()\n",
    "plt.show()"
   ]
  },
  {
   "cell_type": "code",
   "execution_count": null,
   "metadata": {},
   "outputs": [],
   "source": []
  }
 ],
 "metadata": {
  "kernelspec": {
   "display_name": "Python 3",
   "language": "python",
   "name": "python3"
  },
  "language_info": {
   "codemirror_mode": {
    "name": "ipython",
    "version": 3
   },
   "file_extension": ".py",
   "mimetype": "text/x-python",
   "name": "python",
   "nbconvert_exporter": "python",
   "pygments_lexer": "ipython3",
   "version": "3.7.4"
  }
 },
 "nbformat": 4,
 "nbformat_minor": 2
}
